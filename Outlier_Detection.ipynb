{
 "cells": [
  {
   "cell_type": "code",
   "execution_count": 4,
   "id": "b288f59b-71e9-4a28-ad67-02eac86ff0d9",
   "metadata": {},
   "outputs": [],
   "source": [
    "import numpy as np\n",
    "import matplotlib.pyplot as plt\n",
    "%matplotlib inline"
   ]
  },
  {
   "cell_type": "code",
   "execution_count": null,
   "id": "f7fa8705-94de-4aa5-b3a2-cd0684a50dae",
   "metadata": {},
   "outputs": [],
   "source": [
    "# histogram"
   ]
  },
  {
   "cell_type": "code",
   "execution_count": 29,
   "id": "18b1d05a-debc-47ac-9865-b6f4105c535c",
   "metadata": {},
   "outputs": [
    {
     "data": {
      "text/plain": [
       "(array([14.,  4.,  1.,  0.,  0.,  1.,  0.,  1.,  0.,  1.]),\n",
       " array([  1. ,  56.9, 112.8, 168.7, 224.6, 280.5, 336.4, 392.3, 448.2,\n",
       "        504.1, 560. ]),\n",
       " <BarContainer object of 10 artists>)"
      ]
     },
     "execution_count": 29,
     "metadata": {},
     "output_type": "execute_result"
    },
    {
     "data": {
      "image/png": "[encoded data removed]",
      "text/plain": [
       "<Figure size 640x480 with 1 Axes>"
      ]
     },
     "metadata": {},
     "output_type": "display_data"
    }
   ],
   "source": [
    "dataset = [1,2,332,1,34,21,411,2,123,6,34,90,32,60,23,56,78,56,45,23,88,560]\n",
    "plt.hist(dataset)"
   ]
  },
  {
   "cell_type": "code",
   "execution_count": null,
   "id": "d702dbef-6625-4bb1-ad96-94192343dca3",
   "metadata": {},
   "outputs": [],
   "source": [
    "# z- score : (xi - mean) / standard_dev"
   ]
  },
  {
   "cell_type": "code",
   "execution_count": 35,
   "id": "3f6897a2-f77d-4137-92c0-a80748f450c9",
   "metadata": {},
   "outputs": [],
   "source": [
    "outlier = []\n",
    "def find_outlier(data):\n",
    "    threshold = 1            #3rd std. dev \n",
    "    mean = np.mean(data)\n",
    "    std =  np.std(data)\n",
    "    for i in data :\n",
    "        z_score = (i - mean) / std\n",
    "        if abs(z_score) > threshold :\n",
    "            outlier.append(i)\n",
    "    return outlier"
   ]
  },
  {
   "cell_type": "code",
   "execution_count": 36,
   "id": "14318242-dac6-4083-aa1b-2aaed252c25f",
   "metadata": {},
   "outputs": [
    {
     "name": "stdout",
     "output_type": "stream",
     "text": [
      "Outlier :  [332, 411, 560]\n"
     ]
    }
   ],
   "source": [
    "print(\"Outlier : \", find_outlier(dataset))"
   ]
  },
  {
   "cell_type": "code",
   "execution_count": null,
   "id": "6c80d2da-32d7-4734-8af0-40757f5eab35",
   "metadata": {},
   "outputs": [],
   "source": [
    "# IQR\n",
    "\n",
    "\"\"\"\n",
    "1. Sort the Data\n",
    "2. Calculate Q1(25%) and Q2(75%)\n",
    "3. IQR (Q3 - Q1)\n",
    "4. Find Lower Fench ---> Q1 - (1.5 * IQR)\n",
    "5. Find Upper Fench ---> Q3 + (1.5 * IQR)\n",
    "\n",
    "\"\"\""
   ]
  },
  {
   "cell_type": "code",
   "execution_count": 38,
   "id": "eb3eda7e-3d02-46c9-967e-8c06433b5b81",
   "metadata": {},
   "outputs": [
    {
     "name": "stdout",
     "output_type": "stream",
     "text": [
      "[1, 1, 2, 2, 6, 21, 23, 23, 32, 34, 34, 45, 56, 56, 60, 78, 88, 90, 123, 332, 411, 560]\n"
     ]
    }
   ],
   "source": [
    "# sorting\n",
    "dataset = sorted(dataset)\n",
    "print(dataset)"
   ]
  },
  {
   "cell_type": "code",
   "execution_count": 39,
   "id": "9d5cd491-4c95-4b34-a11f-9fa151d6befb",
   "metadata": {},
   "outputs": [
    {
     "name": "stdout",
     "output_type": "stream",
     "text": [
      "21.5 85.5\n"
     ]
    }
   ],
   "source": [
    "# quartiles\n",
    "q1 , q3 = np.percentile(dataset , [25 , 75])\n",
    "print(q1 , q3)"
   ]
  },
  {
   "cell_type": "code",
   "execution_count": 40,
   "id": "e8470a47-181e-4204-97fb-9e505568737f",
   "metadata": {},
   "outputs": [
    {
     "name": "stdout",
     "output_type": "stream",
     "text": [
      "64.0\n"
     ]
    }
   ],
   "source": [
    "# IQR\n",
    "iqr = q3 - q1 \n",
    "print(iqr)"
   ]
  },
  {
   "cell_type": "code",
   "execution_count": 41,
   "id": "02cbfbb1-21ec-49a5-afb2-04886056de26",
   "metadata": {},
   "outputs": [
    {
     "name": "stdout",
     "output_type": "stream",
     "text": [
      "-74.5 181.5\n"
     ]
    }
   ],
   "source": [
    "# lower and upper fench\n",
    "lower_fench = q1 - (1.5 * iqr)\n",
    "upper_fench = q3 + (1.5 * iqr)\n",
    "print(lower_fench , upper_fench)"
   ]
  },
  {
   "cell_type": "code",
   "execution_count": 42,
   "id": "5a98b02a-7a04-43e1-ba8f-76c83c4b56d0",
   "metadata": {},
   "outputs": [
    {
     "name": "stdout",
     "output_type": "stream",
     "text": [
      "[332, 411, 560]\n"
     ]
    }
   ],
   "source": [
    "# outliers \n",
    "outlier_iqr = []\n",
    "for i in dataset :\n",
    "    if i < lower_fench or i > upper_fench :\n",
    "        outlier_iqr.append(i)\n",
    "print(outlier_iqr)"
   ]
  },
  {
   "cell_type": "code",
   "execution_count": 44,
   "id": "c5a5687b-4b0e-4123-979b-fc530d18b419",
   "metadata": {},
   "outputs": [
    {
     "data": {
      "text/plain": [
       "<Axes: >"
      ]
     },
     "execution_count": 44,
     "metadata": {},
     "output_type": "execute_result"
    },
    {
     "data": {
      "image/png": "[encoded data removed]",
      "text/plain": [
       "<Figure size 640x480 with 1 Axes>"
      ]
     },
     "metadata": {},
     "output_type": "display_data"
    }
   ],
   "source": [
    "# boxplot \n",
    "import seaborn as sns\n",
    "sns.boxplot(dataset)"
   ]
  }
 ],
 "metadata": {
  "kernelspec": {
   "display_name": "Python 3 (ipykernel)",
   "language": "python",
   "name": "python3"
  },
  "language_info": {
   "codemirror_mode": {
    "name": "ipython",
    "version": 3
   },
   "file_extension": ".py",
   "mimetype": "text/x-python",
   "name": "python",
   "nbconvert_exporter": "python",
   "pygments_lexer": "ipython3",
   "version": "3.11.0"
  }
 },
 "nbformat": 4,
 "nbformat_minor": 5
}
