{
 "cells": [
  {
   "cell_type": "code",
   "execution_count": 26,
   "id": "66353f5b-dafb-4c41-8ba6-a5b5315687f5",
   "metadata": {},
   "outputs": [
    {
     "name": "stdout",
     "output_type": "stream",
     "text": [
      "__Weather Analysis__\n",
      "\n"
     ]
    },
    {
     "name": "stdin",
     "output_type": "stream",
     "text": [
      "Enter the number of cities/states :  1\n"
     ]
    },
    {
     "name": "stdout",
     "output_type": "stream",
     "text": [
      "Enter the cities/states : \n"
     ]
    },
    {
     "name": "stdin",
     "output_type": "stream",
     "text": [
      "City 1 :  Arunachal Pradesh\n"
     ]
    },
    {
     "name": "stdout",
     "output_type": "stream",
     "text": [
      "\n",
      "\n",
      "Weather in Arunachal Pradesh: clear sky\n",
      "Temperature: 30.69 °C\n"
     ]
    }
   ],
   "source": [
    "import requests\n",
    "import pandas as pd \n",
    "\n",
    "API_KEY = 'c73d8cd3bcfa9a8a1dd6865fde40b6d6'\n",
    "BASE_URL = 'https://api.openweathermap.org/data/2.5/weather'\n",
    "\n",
    "def get_weather(cities):\n",
    "    print(\"\\n\")\n",
    "    for city in cities : \n",
    "        try:\n",
    "            request_url = f\"{BASE_URL}?q={city}&appid={API_KEY}\"\n",
    "            response = requests.get(request_url)\n",
    "            response.raise_for_status()  # Raise error for bad status codes\n",
    "            data = response.json()\n",
    "    \n",
    "            weather = data['weather'][0]['description']\n",
    "            temperature = round(data['main']['temp'] - 273.15, 2)  # Kelvin to Celsius\n",
    "    \n",
    "            print(f\"Weather in {city}: {weather}\")\n",
    "            print(f\"Temperature: {temperature} °C\")\n",
    "\n",
    "            \n",
    "            \n",
    "            \n",
    "\n",
    "        \n",
    "    \n",
    "        except requests.exceptions.HTTPError:\n",
    "            print(f\"City '{city}' not found or API request failed. Status code: {response.status_code}\")\n",
    "        except requests.exceptions.RequestException as e:\n",
    "            print(\"Error connecting to the API:\", e)\n",
    "        except KeyError:\n",
    "            print(\"Unexpected response format from API.\")\n",
    "\n",
    "if __name__ == \"__main__\":\n",
    "    \n",
    "    print(\"__Weather Analysis__\\n\")\n",
    "    n = int(input(\"Enter the number of cities/states : \"))\n",
    "    \n",
    "    cities = [] \n",
    "    print(\"Enter the cities/states : \")\n",
    "    for i in range(n) : \n",
    "        city = input(f\"City {i+1} : \")\n",
    "        # city.strip()          # doesn't work \n",
    "        cities.append(city)\n",
    "        \n",
    "    get_weather(cities)  "
   ]
  },
  {
   "cell_type": "code",
   "execution_count": null,
   "id": "cf926920-51fe-49c3-b64d-2fb710c1dd86",
   "metadata": {},
   "outputs": [],
   "source": []
  }
 ],
 "metadata": {
  "kernelspec": {
   "display_name": "Python 3 (ipykernel)",
   "language": "python",
   "name": "python3"
  },
  "language_info": {
   "codemirror_mode": {
    "name": "ipython",
    "version": 3
   },
   "file_extension": ".py",
   "mimetype": "text/x-python",
   "name": "python",
   "nbconvert_exporter": "python",
   "pygments_lexer": "ipython3",
   "version": "3.11.0"
  }
 },
 "nbformat": 4,
 "nbformat_minor": 5
}
